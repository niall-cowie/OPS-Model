import sqlite3
import pandas as pd
import seaborn as sns
import matplotlib.pyplot as plt

# Connect to the database
conn = sqlite3.connect('mlb_2022-2024_stats.db')

# Query to select the dat
query = "SELECT * FROM player_Stats" 

# Load data into a pandas DataFrame
df = pd.read_sql(query, conn)

# ERROR WITH "NON-NUMERIC" DATA despite cleaning (must revisit)
non_numeric_columns = df.select_dtypes(exclude=[float, int]).columns
print("Non-numeric columns: ", non_numeric_columns)
df.replace('-.--', pd.NA, inplace=True)
# Convert all columns to numeric values
df = df.apply(pd.to_numeric, errors='coerce')


# Calculate the correlation matrix for numerical columns
correlation_matrix = df.corr()

# Visualize the correlation matrix using a heatmap
plt.figure(figsize=(14, 8)) 
sns.heatmap(correlation_matrix, annot=True, cmap='coolwarm', fmt='.2f', cbar=True)
plt.title('Correlation Heatmap for Player Stats')
plt.show()

# Correlations with OPS
ops_correlation = correlation_matrix['ops'].sort_values(ascending=False)

# Display the OPS correlation values
print("Correlations with OPS:")
print(ops_correlation)

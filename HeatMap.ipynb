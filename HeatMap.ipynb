{
  "cells": [
    {
      "cell_type": "code",
      "execution_count": null,
      "id": "some_unique_id_1",
      "metadata": {},
      "outputs": [],
      "source": [
        "import sqlite3\n",
        "import pandas as pd\n",
        "import seaborn as sns\n",
        "import matplotlib.pyplot as plt\n",
        "\n",
        "# Connect to the database\n",
        "conn = sqlite3.connect('mlb_2022-2024_stats.db')\n",
        "\n",
        "# Query to select the data\n",
        "query = \"SELECT * FROM player_Stats\"  # Replace with actual table name if different\n",
        "\n",
        "# Load data into a pandas DataFrame\n",
        "df = pd.read_sql(query, conn)\n",
        "\n",
        "# ERROR WITH \"NON-NUMERIC\" DATA despite cleaning (must revisit)\n",
        "non_numeric_columns = df.select_dtypes(exclude=[float, int]).columns\n",
        "print(\"Non-numeric columns: \", non_numeric_columns)\n",
        "df.replace('-.--', pd.NA, inplace=True)\n",
        "# Convert all columns to numeric values\n",
        "df = df.apply(pd.to_numeric, errors='coerce')\n",
        "\n",
        "# Calculate the correlation matrix for numerical columns\n",
        "correlation_matrix = df.corr()\n",
        "\n",
        "# Visualize the correlation matrix using a heatmap\n",
        "plt.figure(figsize=(14, 8)) \n",
        "sns.heatmap(correlation_matrix, annot=True, cmap='coolwarm', fmt='.2f', cbar=True)\n",
        "plt.title('Correlation Heatmap for Player Stats')\n",
        "plt.show()\n",
        "\n",
        "# Correlations with OPS\n",
        "ops_correlation = correlation_matrix['ops'].sort_values(ascending=False)\n",
        "\n",
        "# Display the OPS correlation values\n",
        "print(\"Correlations with OPS:\")\n",
        "print(ops_correlation)\n"
      ]
    }
  ],
  "metadata": {},
  "nbformat": 4,
  "nbformat_minor": 5
}



{
  "imports": [
    "import sqlite3",
    "import pandas as pd",
    "import seaborn as sns",
    "import matplotlib.pyplot as plt"
  ],
  "steps": [
    {
      "step": "connect_to_database",
      "code": "conn = sqlite3.connect('mlb_2022-2024_stats.db')"
    },
    {
      "step": "query_data",
      "code": "query = 'SELECT * FROM player_Stats'"
    },
    {
      "step": "load_data",
      "code": "df = pd.read_sql(query, conn)"
    },
    {
      "step": "check_non_numeric_data",
      "code": "non_numeric_columns = df.select_dtypes(exclude=[float, int]).columns",
      "comment": "ERROR WITH 'NON-NUMERIC' DATA despite cleaning (must revisit)"
    },
    {
      "step": "replace_non_numeric",
      "code": "df.replace('-.--', pd.NA, inplace=True)"
    },
    {
      "step": "convert_to_numeric",
      "code": "df = df.apply(pd.to_numeric, errors='coerce')"
    },
    {
      "step": "calculate_correlation",
      "code": "correlation_matrix = df.corr()"
    },
    {
      "step": "visualize_heatmap",
      "code": "plt.figure(figsize=(14, 8))\nsns.heatmap(correlation_matrix, annot=True, cmap='coolwarm', fmt='.2f', cbar=True)\nplt.title('Correlation Heatmap for Player Stats')\nplt.show()"
    },
    {
      "step": "ops_correlation",
      "code": "ops_correlation = correlation_matrix['ops'].sort_values(ascending=False)"
    },
    {
      "step": "display_ops_correlation",
      "code": "print('Correlations with OPS:')\nprint(ops_correlation)"
    }
  ]
}

